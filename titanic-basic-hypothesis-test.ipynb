{
 "cells": [
  {
   "cell_type": "markdown",
   "id": "0ee45659",
   "metadata": {
    "papermill": {
     "duration": 0.003705,
     "end_time": "2025-10-17T03:08:58.637487",
     "exception": false,
     "start_time": "2025-10-17T03:08:58.633782",
     "status": "completed"
    },
    "tags": []
   },
   "source": [
    "予想：女性の方が生き残る確率が高かったはず、等級の高いほうが生き残っている確率が高いはず"
   ]
  },
  {
   "cell_type": "markdown",
   "id": "065ba358",
   "metadata": {
    "papermill": {
     "duration": 0.002723,
     "end_time": "2025-10-17T03:08:58.643259",
     "exception": false,
     "start_time": "2025-10-17T03:08:58.640536",
     "status": "completed"
    },
    "tags": []
   },
   "source": [
    "- 提供されるデータの変数を見てみたところ、生き残ったかどうかのデータと、部屋の等級と家族関係のデータは提供されてる\n",
    "- まず、家族連れだったかそうでないかのデータを整形→等級をわけるが1つ目の整理か。そして、おそらく妥当なのは女性と子供は優先的に救命ボートに乗せられただろうと想定し、それは等級が高い順であったであろうと予測。データを出してみてそれが本当かどうか見てみて判断って感じかなあ？（でもな、家族連れのデータを整形して見比べるってどうやるんだろう。最初にやるにはなんか手間が多い気がする。もっと何かある気がする）\n",
    "- （当時の社会的背景とか文化を考えると）おそらく生き残りやすいであろう順番は、女の子供 ＞ 男の子供 ＞ 家族連れの女性 ＞ 単独の女性 ＞家族連れの男性＞単独の男性 ＞乗務員\n",
    "- より詳細にすると女の子供等級が高い順 ＞ 男の子供等級が高い順 ＞ 家族連れの女性等級が高い順 ＞ 単独の女性等級が高い順 ＞家族連れの男性等級が高い順＞単独の男性等級が高い順 ＞乗務員\n",
    "- あとは子供の定義だよね。タイタニック号の沈没は1912年まあ20世紀だとはいえ、成人とかっていう定義がわからない\n",
    "- 子供については家族関係のデータを紐づける必要はないから、女の子供をまず等級別にならべて、男の子供を等級別にならべるのが一番最初だね。そのあと、女性が既婚か未婚かで並べて、つぎは男性の社会的地位と家族持ちかをしらべて、最後に独身男性かな"
   ]
  },
  {
   "cell_type": "code",
   "execution_count": 1,
   "id": "b47e32a9",
   "metadata": {
    "_cell_guid": "b1076dfc-b9ad-4769-8c92-a6c4dae69d19",
    "_uuid": "8f2839f25d086af736a60e9eeb907d3b93b6e0e5",
    "execution": {
     "iopub.execute_input": "2025-10-17T03:08:58.650517Z",
     "iopub.status.busy": "2025-10-17T03:08:58.650238Z",
     "iopub.status.idle": "2025-10-17T03:09:00.623917Z",
     "shell.execute_reply": "2025-10-17T03:09:00.623171Z"
    },
    "papermill": {
     "duration": 1.979015,
     "end_time": "2025-10-17T03:09:00.625237",
     "exception": false,
     "start_time": "2025-10-17T03:08:58.646222",
     "status": "completed"
    },
    "tags": []
   },
   "outputs": [
    {
     "name": "stdout",
     "output_type": "stream",
     "text": [
      "Index(['PassengerId', 'Survived', 'Pclass', 'Name', 'Sex', 'Age', 'SibSp',\n",
      "       'Parch', 'Ticket', 'Fare', 'Cabin', 'Embarked'],\n",
      "      dtype='object')\n",
      "----- 性別ごとの生存率 -----\n",
      "Sex\n",
      "female    0.742038\n",
      "male      0.188908\n",
      "Name: Survived, dtype: float64\n"
     ]
    }
   ],
   "source": [
    "import numpy as np # numpy を np という略称でインポート\n",
    "import pandas as pd # Pandas を pd という略称でインポート\n",
    "\n",
    "#import os\n",
    "#for dirname, _, filenames in os.walk('/kaggle/input'):\n",
    "#    for filename in filenames:\n",
    "#        print(os.path.join(dirname, filename))\n",
    "\n",
    "# =========================\n",
    "# データの読み込みと確認\n",
    "# =========================\n",
    "\n",
    "train_data = pd.read_csv(\"/kaggle/input/titanic/train.csv\")\n",
    "\n",
    "# データの一部を表示して、正しく読み込めたか確認\n",
    "#print(train_data.head(5))\n",
    "\n",
    "# 変数名(列名)を調べる\n",
    "print(train_data.columns)\n",
    "\n",
    "# ==================================\n",
    "# 仮説：女性の方が生存率が高いのでは？\n",
    "# ==================================\n",
    "\n",
    "# 性別ごとの生存率\n",
    "print(\"----- 性別ごとの生存率 -----\")\n",
    "# Sex を groupby するので male と female に分かれる\n",
    "# グループ化したデータのうち Survived というラベルの列だけを選択する\n",
    "# mean で各グループの Survived の平均を計算する\n",
    "print(train_data.groupby('Sex')['Survived'].mean())"
   ]
  },
  {
   "cell_type": "markdown",
   "id": "230bd65e",
   "metadata": {
    "papermill": {
     "duration": 0.002737,
     "end_time": "2025-10-17T03:09:00.631262",
     "exception": false,
     "start_time": "2025-10-17T03:09:00.628525",
     "status": "completed"
    },
    "tags": []
   },
   "source": [
    "予想通り、女性の生存率の平均が0.74、男性の生存率が、0.19。"
   ]
  },
  {
   "cell_type": "markdown",
   "id": "b504dde1",
   "metadata": {
    "papermill": {
     "duration": 0.002818,
     "end_time": "2025-10-17T03:09:00.636994",
     "exception": false,
     "start_time": "2025-10-17T03:09:00.634176",
     "status": "completed"
    },
    "tags": []
   },
   "source": [
    "**NumPy**\n",
    "- 数値計算するためのライブラリ\n",
    "\n",
    "**Pandas**\n",
    "- データ分析のためのライブラリ\n",
    "\n",
    "**pandas.read_csv()**\n",
    "> Read a comma-separated values (csv) file into DataFrame.\n",
    "> https://pandas.pydata.org/docs/reference/api/pandas.read_csv.html\n",
    "\n",
    "DateFrameとして格納される\n",
    "\n",
    "**pandas.DataFrame.columns**\n",
    "> The column labels of the DataFrame.\n",
    "> https://pandas.pydata.org/docs/reference/api/pandas.DataFrame.columns.html#pandas.DataFrame.columns\n",
    "\n",
    "DateFrameの列のラベルが見られる\n",
    "\n",
    "**pandas.DataFrame.groupby**\n",
    "\n",
    "> Group DataFrame using a mapper or by a Series of columns.\n",
    "> https://pandas.pydata.org/docs/reference/api/pandas.DataFrame.groupby.html#pandas.DataFrame.groupby\n",
    "\n",
    "データフレームを一次元の列のによってグループ化する\n",
    "\n",
    "📝 SQLっぽい\n",
    "\n",
    "❓️ mapperってなんだろう\n",
    "\n",
    "- TRPG だと地図を書く人\n",
    "- 各行=レコードを見て→指定した変数（列）をチェック→なんの値が入っているかを確認→その値に基づいてレコードをグループに分ける役割\n",
    "\n",
    "**pandas.core.groupby.DataFrameGroupBy.mean**\n",
    "\n",
    "> Compute mean of groups, excluding missing values.\n",
    "> https://pandas.pydata.org/docs/reference/api/pandas.core.groupby.DataFrameGroupBy.mean.html#pandas.core.groupby.DataFrameGroupBy.mean\n",
    "\n",
    "❓️ 欠損値ってなんだろう\n",
    "\n",
    "> 欠損値とは、データ・セット中の不明な値、収集されていない値、または誤って入力された値です。通常、そのような値はフィールドに対して無効になります。\n",
    ">https://www.ibm.com/docs/ja/spss-modeler/saas?topic=values-overview-missing\n",
    "\n",
    "\n",
    "📝 **Survived の平均 = 生存者の割合**\n",
    "\n",
    "- Survived は 0 と 1 しか値をとらないので全部足して全人数で割ると生存者の割合が出る。\n",
    "- 標本比率 xバー は標本平均 p ハットと同じのやつ"
   ]
  },
  {
   "cell_type": "code",
   "execution_count": 2,
   "id": "de5c809d",
   "metadata": {
    "execution": {
     "iopub.execute_input": "2025-10-17T03:09:00.643921Z",
     "iopub.status.busy": "2025-10-17T03:09:00.643619Z",
     "iopub.status.idle": "2025-10-17T03:09:00.649937Z",
     "shell.execute_reply": "2025-10-17T03:09:00.648723Z"
    },
    "papermill": {
     "duration": 0.011481,
     "end_time": "2025-10-17T03:09:00.651317",
     "exception": false,
     "start_time": "2025-10-17T03:09:00.639836",
     "status": "completed"
    },
    "tags": []
   },
   "outputs": [
    {
     "name": "stdout",
     "output_type": "stream",
     "text": [
      "-----等級ごとの生存率 -----\n",
      "Pclass\n",
      "1    0.629630\n",
      "2    0.472826\n",
      "3    0.242363\n",
      "Name: Survived, dtype: float64\n"
     ]
    }
   ],
   "source": [
    "# ==========================================\n",
    "# 仮説：社会的地位が高い方が生存率が高いのでは？\n",
    "# ==========================================\n",
    "\n",
    "# 等級（Pclass）ごとの生存率\n",
    "print(\"-----等級ごとの生存率 -----\")\n",
    "print(train_data.groupby('Pclass')['Survived'].mean())"
   ]
  },
  {
   "cell_type": "markdown",
   "id": "0efdc6df",
   "metadata": {
    "papermill": {
     "duration": 0.002781,
     "end_time": "2025-10-17T03:09:00.657700",
     "exception": false,
     "start_time": "2025-10-17T03:09:00.654919",
     "status": "completed"
    },
    "tags": []
   },
   "source": [
    "等級も\n",
    "\n",
    "1等 0.629630\n",
    "2等 0.472826\n",
    "3等 0.242363\n",
    "\n",
    "で、等級が高い（社会的地位が高い）で予想通り"
   ]
  },
  {
   "cell_type": "markdown",
   "id": "4773b2c8",
   "metadata": {
    "papermill": {
     "duration": 0.002746,
     "end_time": "2025-10-17T03:09:00.663464",
     "exception": false,
     "start_time": "2025-10-17T03:09:00.660718",
     "status": "completed"
    },
    "tags": []
   },
   "source": [
    "**ここまでの分析**\n",
    "\n",
    "- 男性より女性が生き残っているのは、女性を優先するという文化によって救命ボートに乗る確率が高かったから\n",
    "- 客室の等級が高いほうが生き残っているのは、社会的地位というものが重視される時代であり、救命ボートに乗れる確率が高かったから"
   ]
  },
  {
   "cell_type": "markdown",
   "id": "75e42729",
   "metadata": {
    "papermill": {
     "duration": 0.002722,
     "end_time": "2025-10-17T03:09:00.669114",
     "exception": false,
     "start_time": "2025-10-17T03:09:00.666392",
     "status": "completed"
    },
    "tags": []
   },
   "source": [
    "次の予想：子供のほうが大人より生き残り確率が高かったはず"
   ]
  },
  {
   "cell_type": "code",
   "execution_count": 3,
   "id": "81ef17b3",
   "metadata": {
    "execution": {
     "iopub.execute_input": "2025-10-17T03:09:00.676263Z",
     "iopub.status.busy": "2025-10-17T03:09:00.676012Z",
     "iopub.status.idle": "2025-10-17T03:09:00.682962Z",
     "shell.execute_reply": "2025-10-17T03:09:00.681945Z"
    },
    "papermill": {
     "duration": 0.012931,
     "end_time": "2025-10-17T03:09:00.684938",
     "exception": false,
     "start_time": "2025-10-17T03:09:00.672007",
     "status": "completed"
    },
    "tags": []
   },
   "outputs": [
    {
     "name": "stdout",
     "output_type": "stream",
     "text": [
      "年齢ごとの生存率:\n",
      "Age\n",
      "0.42     1.0\n",
      "0.67     1.0\n",
      "0.75     1.0\n",
      "0.83     1.0\n",
      "0.92     1.0\n",
      "        ... \n",
      "70.00    0.0\n",
      "70.50    0.0\n",
      "71.00    0.0\n",
      "74.00    0.0\n",
      "80.00    1.0\n",
      "Name: Survived, Length: 88, dtype: float64\n"
     ]
    }
   ],
   "source": [
    "# ==============================================\n",
    "# 仮説：子供のほうが大人より生き残り確率が高いのでは？\n",
    "# ==============================================\n",
    "\n",
    "# 年齢ごとの生存率\n",
    "print(\"年齢ごとの生存率:\")\n",
    "print(train_data.groupby('Age')['Survived'].mean())"
   ]
  },
  {
   "cell_type": "markdown",
   "id": "8ccbd8c2",
   "metadata": {
    "papermill": {
     "duration": 0.002892,
     "end_time": "2025-10-17T03:09:00.691202",
     "exception": false,
     "start_time": "2025-10-17T03:09:00.688310",
     "status": "completed"
    },
    "tags": []
   },
   "source": [
    "ざっとすべての年齢の生き残り平均をだしてみたら、一部しか表示されなかったけど、面白かったのは、やはり数字が小さければ小さいほど生存確率は1で、最後の方は80.00だけ1なのは、きっと、敬老なんだろう"
   ]
  },
  {
   "cell_type": "code",
   "execution_count": 4,
   "id": "3da34e11",
   "metadata": {
    "execution": {
     "iopub.execute_input": "2025-10-17T03:09:00.699453Z",
     "iopub.status.busy": "2025-10-17T03:09:00.698599Z",
     "iopub.status.idle": "2025-10-17T03:09:00.710257Z",
     "shell.execute_reply": "2025-10-17T03:09:00.709297Z"
    },
    "papermill": {
     "duration": 0.017419,
     "end_time": "2025-10-17T03:09:00.711810",
     "exception": false,
     "start_time": "2025-10-17T03:09:00.694391",
     "status": "completed"
    },
    "tags": []
   },
   "outputs": [
    {
     "name": "stdout",
     "output_type": "stream",
     "text": [
      "--- 等級と性別を組み合わせた生存率 ---\n",
      "Pclass  Sex   \n",
      "1       female    0.968085\n",
      "        male      0.368852\n",
      "2       female    0.921053\n",
      "        male      0.157407\n",
      "3       female    0.500000\n",
      "        male      0.135447\n",
      "Name: Survived, dtype: float64\n"
     ]
    }
   ],
   "source": [
    "# ==============================================\n",
    "# 性別と等級を組み合わせて、生存率をチェックする\n",
    "# ==============================================\n",
    "\n",
    "# 性別（'Sex'）と等級（'Pclass'）でグループ化し、'Survived'の平均を計算\n",
    "compound_survival = train_data.groupby(['Pclass', 'Sex'])['Survived'].mean()\n",
    "\n",
    "# 結果を表示\n",
    "print(\"--- 等級と性別を組み合わせた生存率 ---\")\n",
    "print(compound_survival)"
   ]
  },
  {
   "cell_type": "markdown",
   "id": "33fb55b9",
   "metadata": {
    "papermill": {
     "duration": 0.002985,
     "end_time": "2025-10-17T03:09:00.718309",
     "exception": false,
     "start_time": "2025-10-17T03:09:00.715324",
     "status": "completed"
    },
    "tags": []
   },
   "source": [
    "面白い結果が出た。等級1と2の女性の生存率は0.96と0.92でほぼ変わらないが等級3になったとたん、女性でも0.5になる。船室の配置がどういう状況だったか調べれば、答えが出そう"
   ]
  },
  {
   "cell_type": "code",
   "execution_count": 5,
   "id": "873ff992",
   "metadata": {
    "execution": {
     "iopub.execute_input": "2025-10-17T03:09:00.725909Z",
     "iopub.status.busy": "2025-10-17T03:09:00.725555Z",
     "iopub.status.idle": "2025-10-17T03:09:00.746378Z",
     "shell.execute_reply": "2025-10-17T03:09:00.745087Z"
    },
    "papermill": {
     "duration": 0.026137,
     "end_time": "2025-10-17T03:09:00.747577",
     "exception": false,
     "start_time": "2025-10-17T03:09:00.721440",
     "status": "completed"
    },
    "tags": []
   },
   "outputs": [
    {
     "name": "stdout",
     "output_type": "stream",
     "text": [
      "--- 年齢15歳以下を子供と仮定 ---\n",
      "--- 子供の等級・性別ごとの生存率と人数 ---\n",
      "                   mean  count\n",
      "Pclass Sex                    \n",
      "1      female  0.666667      3\n",
      "       male    1.000000      3\n",
      "2      female  1.000000     10\n",
      "       male    1.000000      9\n",
      "3      female  0.533333     30\n",
      "       male    0.321429     28\n"
     ]
    },
    {
     "name": "stderr",
     "output_type": "stream",
     "text": [
      "/usr/local/lib/python3.11/dist-packages/pandas/core/computation/expressions.py:73: RuntimeWarning: invalid value encountered in less_equal\n",
      "  return op(a, b)\n"
     ]
    }
   ],
   "source": [
    "# ======================================================\n",
    "# 15歳以下を子供と仮定して、等級と性別ごとの生存率をチェックする\n",
    "# ======================================================\n",
    "\n",
    "# 年齢15歳以下を子供と仮定\n",
    "print(\"--- 年齢15歳以下を子供と仮定 ---\")\n",
    "children = train_data[train_data['Age'] <= 15] \n",
    "\n",
    "# Pclass（等級）と Sex（性別）でグループ化し、生存率（mean）と人数（count）を同時に計算\n",
    "children_stats = children.groupby(['Pclass', 'Sex'])['Survived'].agg(['mean', 'count'])\n",
    "\n",
    "# 結果を表示\n",
    "print(\"--- 子供の等級・性別ごとの生存率と人数 ---\")\n",
    "print(children_stats)"
   ]
  },
  {
   "cell_type": "markdown",
   "id": "16fa7ceb",
   "metadata": {
    "papermill": {
     "duration": 0.003032,
     "end_time": "2025-10-17T03:09:00.754004",
     "exception": false,
     "start_time": "2025-10-17T03:09:00.750972",
     "status": "completed"
    },
    "tags": []
   },
   "source": [
    "なんでだろう、年齢15歳以下を子供と仮定すると、等級1のfemaleの子供は0.6、等級2は男女ともに1だ\n",
    "\n",
    "おそらくなにか外れ値があるのだろうと予想したが、人数が少なかった可能性がある。ということは、まずこのデータを出す前に、それぞれの子供の数を出力しておかないとね\n",
    "\n",
    "コードにcountを追加した\n",
    "\n",
    "1等級の子供は男女ともに3人だけだった。おそらく1人がなんらかの理由で亡くなったことにより、1等級の女の子供の生存平均が減ったんだろうね"
   ]
  },
  {
   "cell_type": "markdown",
   "id": "15f9f315",
   "metadata": {
    "papermill": {
     "duration": 0.002993,
     "end_time": "2025-10-17T03:09:00.760166",
     "exception": false,
     "start_time": "2025-10-17T03:09:00.757173",
     "status": "completed"
    },
    "tags": []
   },
   "source": [
    "結論：\n",
    "1等客室の女の子の生き残りが少ないのは、そもそも子供の数が少なかったので1人が亡くなっただけでも死亡率が上がる状態"
   ]
  },
  {
   "cell_type": "markdown",
   "id": "b0346510",
   "metadata": {
    "papermill": {
     "duration": 0.00286,
     "end_time": "2025-10-17T03:09:00.766196",
     "exception": false,
     "start_time": "2025-10-17T03:09:00.763336",
     "status": "completed"
    },
    "tags": []
   },
   "source": [
    "**pandas.core.groupby.DataFrameGroupBy.agg**\n",
    "> Aggregate using one or more operations over the specified axis.\n",
    "> https://pandas.pydata.org/docs/reference/api/pandas.core.groupby.DataFrameGroupBy.agg.html#pandas.core.groupby.DataFrameGroupBy.agg\n",
    "\n",
    "複数の集計操作を同時に実行する。\n",
    "\n",
    "集計関数を\n",
    "\n",
    ".agg(['mean', 'count']\n",
    "\n",
    "みたいに書くと平均を出しつつ、1等級でかつ女性の総数、みたいなのを出してくれる"
   ]
  },
  {
   "cell_type": "markdown",
   "id": "c19b2219",
   "metadata": {
    "papermill": {
     "duration": 0.002826,
     "end_time": "2025-10-17T03:09:00.772093",
     "exception": false,
     "start_time": "2025-10-17T03:09:00.769267",
     "status": "completed"
    },
    "tags": []
   },
   "source": [
    "なぜ、3等客室の女性の予測に比べて生存率が低いのか"
   ]
  },
  {
   "cell_type": "code",
   "execution_count": 6,
   "id": "027c0df2",
   "metadata": {
    "execution": {
     "iopub.execute_input": "2025-10-17T03:09:00.779527Z",
     "iopub.status.busy": "2025-10-17T03:09:00.779283Z",
     "iopub.status.idle": "2025-10-17T03:09:00.786399Z",
     "shell.execute_reply": "2025-10-17T03:09:00.785617Z"
    },
    "papermill": {
     "duration": 0.012508,
     "end_time": "2025-10-17T03:09:00.787745",
     "exception": false,
     "start_time": "2025-10-17T03:09:00.775237",
     "status": "completed"
    },
    "tags": []
   },
   "outputs": [
    {
     "name": "stdout",
     "output_type": "stream",
     "text": [
      "--- 3等船室の女性の生存率と人数 ---\n",
      "mean       0.5\n",
      "count    144.0\n",
      "Name: Survived, dtype: float64\n"
     ]
    }
   ],
   "source": [
    "# =====================================\n",
    "# 疑問：3等の女性の生存率はなぜ低いのだろう？\n",
    "# =====================================\n",
    "\n",
    "# 'Pclass'が3 かつ 'Sex'が'female'の行を抽出\n",
    "third_class_women = train_data[(train_data['Pclass'] == 3) & (train_data['Sex'] == 'female')]\n",
    "\n",
    "# 生存率と人数を計算\n",
    "third_class_women_stats = third_class_women['Survived'].agg(['mean', 'count'])\n",
    "\n",
    "print(\"--- 3等船室の女性の生存率と人数 ---\")\n",
    "print(third_class_women_stats)"
   ]
  },
  {
   "cell_type": "markdown",
   "id": "bb798bba",
   "metadata": {
    "papermill": {
     "duration": 0.003069,
     "end_time": "2025-10-17T03:09:00.794506",
     "exception": false,
     "start_time": "2025-10-17T03:09:00.791437",
     "status": "completed"
    },
    "tags": []
   },
   "source": [
    "3等船室の女性の人数が144人と多いにも関わらず、生存率が 0.50 に半減している\n",
    "\n",
    "countは144だから、数が少ないからという理由ではないことがわかる。ということは、逃げられなかったんだろう\n",
    "\n",
    "ウィキペディアで調べたところ、3等客室の女性の部屋は船尾側にあったらしい。家族連れも船尾に部屋があるみたい。タイタニック号は勝手に真ん中からぱっくり割れたイメージがあったから、真ん中に持ち上がることを考えると船尾と船首側は先に沈んだのだろうか"
   ]
  },
  {
   "cell_type": "markdown",
   "id": "63120e37",
   "metadata": {
    "papermill": {
     "duration": 0.002845,
     "end_time": "2025-10-17T03:09:00.800434",
     "exception": false,
     "start_time": "2025-10-17T03:09:00.797589",
     "status": "completed"
    },
    "tags": []
   },
   "source": [
    "あとは「子供」がどこからかがわからないのを解決したい。Name のデータにMissとかMrとかを持っているからそれを見てみる"
   ]
  },
  {
   "cell_type": "code",
   "execution_count": 7,
   "id": "6d54cb0f",
   "metadata": {
    "execution": {
     "iopub.execute_input": "2025-10-17T03:09:00.808045Z",
     "iopub.status.busy": "2025-10-17T03:09:00.807770Z",
     "iopub.status.idle": "2025-10-17T03:09:00.817554Z",
     "shell.execute_reply": "2025-10-17T03:09:00.816609Z"
    },
    "papermill": {
     "duration": 0.015199,
     "end_time": "2025-10-17T03:09:00.818974",
     "exception": false,
     "start_time": "2025-10-17T03:09:00.803775",
     "status": "completed"
    },
    "tags": []
   },
   "outputs": [
    {
     "name": "stdout",
     "output_type": "stream",
     "text": [
      "--- 敬称ごとの生存率と人数 ---\n",
      "              mean  count\n",
      "Title                    \n",
      "Capt      0.000000      1\n",
      "Col       0.500000      2\n",
      "Countess  1.000000      1\n",
      "Don       0.000000      1\n",
      "Dr        0.428571      7\n",
      "Jonkheer  0.000000      1\n",
      "Lady      1.000000      1\n",
      "Major     0.500000      2\n",
      "Master    0.575000     40\n",
      "Miss      0.697802    182\n",
      "Mlle      1.000000      2\n",
      "Mme       1.000000      1\n",
      "Mr        0.156673    517\n",
      "Mrs       0.792000    125\n",
      "Ms        1.000000      1\n",
      "Rev       0.000000      6\n",
      "Sir       1.000000      1\n"
     ]
    }
   ],
   "source": [
    "# =========================\n",
    "# 敬称から生存確率を調べてみる\n",
    "# =========================\n",
    "\n",
    "# Name列から敬称を抽出\n",
    "# Caldwell, Mr. Albert Francis みたいなデータだから\n",
    "# スペースの後に英字が続き、ピリオドで終わる部分」を抜き出す\n",
    "train_data['Title'] = train_data['Name'].str.extract(' ([A-Za-z]+)\\.', expand=False)\n",
    "\n",
    "# 敬称（Title）でグループ化し、生存率と人数を同時に計算\n",
    "title_stats = train_data.groupby('Title')['Survived'].agg(['mean', 'count'])\n",
    "\n",
    "# 結果を表示\n",
    "print(\"--- 敬称ごとの生存率と人数 ---\")\n",
    "print(title_stats)"
   ]
  },
  {
   "cell_type": "markdown",
   "id": "ce5d7dd6",
   "metadata": {
    "papermill": {
     "duration": 0.003299,
     "end_time": "2025-10-17T03:09:00.826048",
     "exception": false,
     "start_time": "2025-10-17T03:09:00.822749",
     "status": "completed"
    },
    "tags": []
   },
   "source": [
    "train_data['Title']で すでにあるDataFrame に新しい列を作ってそこに抽出したかったデータを入れている\n",
    "\n",
    "配列に入れなくても抽出してまとめてくれるの便利すぎる\n",
    "\n",
    "- SQLみたいに抽出したテーブルを作ってる感じかと思われる\n",
    "- これができるのは、train_dataっていう変数のなかに、pandasを利用してcsvをdateFrameとして入れたからなはず"
   ]
  },
  {
   "cell_type": "markdown",
   "id": "72c297b0",
   "metadata": {
    "papermill": {
     "duration": 0.003864,
     "end_time": "2025-10-17T03:09:00.833222",
     "exception": false,
     "start_time": "2025-10-17T03:09:00.829358",
     "status": "completed"
    },
    "tags": []
   },
   "source": [
    "私の予想は、女性と子供の生存率は高いだろうとものだった\n",
    "女性や子供の敬称でも、人数の少ないものはいったん除外して考えるとして\n",
    "\n",
    "**女性**\n",
    "- Miss（未婚女性）約半数。人数が多いので正確性は高そう\n",
    "- Mlle（未婚女性）生存率100％。ただし、人数が少ない\n",
    "- Mme（婦人）生存率100％。ただし、人数が少ない\n",
    "- Mrs（既婚女性）生存率約8割。人数も十分か\n",
    "- Ms （女性）生存率100％。ただし、人数が少ない\n",
    "- Countess（伯爵夫人）生存率100％。ただし、人数が少ない\n",
    "- Lady（貴族の妻？）生存率100％。ただし、人数が少ない\n",
    "\n",
    "**男性**\n",
    "- Master（若い男性）生存率約6割。40人なのでまあまあの人数\n",
    "- Mr（男性）生存率約１割。人数も十分\n",
    "- その他の男性は生存していても人数が少ないのでいったんおいておく\n",
    "\n",
    "\n",
    "これで予想は立った\n",
    "\n",
    "まずは、ごくごく簡単な、女性なら1（生存）男性なら0（死亡）というプログラムを作成する"
   ]
  },
  {
   "cell_type": "code",
   "execution_count": 8,
   "id": "acfde1b4",
   "metadata": {
    "execution": {
     "iopub.execute_input": "2025-10-17T03:09:00.841246Z",
     "iopub.status.busy": "2025-10-17T03:09:00.840940Z",
     "iopub.status.idle": "2025-10-17T03:09:00.859645Z",
     "shell.execute_reply": "2025-10-17T03:09:00.858622Z"
    },
    "papermill": {
     "duration": 0.02418,
     "end_time": "2025-10-17T03:09:00.860897",
     "exception": false,
     "start_time": "2025-10-17T03:09:00.836717",
     "status": "completed"
    },
    "tags": []
   },
   "outputs": [
    {
     "name": "stdout",
     "output_type": "stream",
     "text": [
      "提出ファイル (gender_submission.csv) が作成されました\n"
     ]
    }
   ],
   "source": [
    "# ==================================\n",
    "# 一番小さいモデルを作ってみる\n",
    "# ==================================\n",
    "\n",
    "# 1. テストデータを読み込む\n",
    "test_data = pd.read_csv(\"/kaggle/input/titanic/test.csv\")\n",
    "\n",
    "# 2. 全員をいったん「死亡（0）」とする\n",
    "test_data['Survived'] = 0\n",
    "\n",
    "# 3. 性別が「女性（female）」の乗客を「生存（1）」にする\n",
    "test_data.loc[test_data['Sex'] == 'female', 'Survived'] = 1\n",
    "\n",
    "# 4. 提出用のデータフレームを作成（PassengerIdとSurvivedのみ）\n",
    "submission = test_data[['PassengerId', 'Survived']]\n",
    "\n",
    "# 5. CSVファイルとして保存（Kaggleに提出するファイル）\n",
    "submission.to_csv('gender_submission.csv', index=False)\n",
    "\n",
    "print(\"提出ファイル (gender_submission.csv) が作成されました\")"
   ]
  },
  {
   "cell_type": "markdown",
   "id": "8e3b987f",
   "metadata": {
    "papermill": {
     "duration": 0.003012,
     "end_time": "2025-10-17T03:09:00.867489",
     "exception": false,
     "start_time": "2025-10-17T03:09:00.864477",
     "status": "completed"
    },
    "tags": []
   },
   "source": [
    "**pandas.DataFrame.loc**\n",
    "> Access a group of rows and columns by label(s) or a boolean array.\n",
    "> https://pandas.pydata.org/docs/reference/api/pandas.DataFrame.loc.html\n",
    "\n",
    "ラベルか真偽配列に基づいて、行と列のグループにアクセスする\n",
    "\n",
    "具体的に言うと下記のような感じ\n",
    "\n",
    "- Sex が female になっている行をすべて選ぶ\n",
    "- 選んだ行の、Survived の列をロックオンする\n",
    "- 上記条件が整ったら、選択されたすべての Survived のセルに1を入れる\n"
   ]
  }
 ],
 "metadata": {
  "kaggle": {
   "accelerator": "none",
   "dataSources": [
    {
     "databundleVersionId": 26502,
     "sourceId": 3136,
     "sourceType": "competition"
    }
   ],
   "dockerImageVersionId": 31153,
   "isGpuEnabled": false,
   "isInternetEnabled": false,
   "language": "python",
   "sourceType": "notebook"
  },
  "kernelspec": {
   "display_name": "Python 3",
   "language": "python",
   "name": "python3"
  },
  "language_info": {
   "codemirror_mode": {
    "name": "ipython",
    "version": 3
   },
   "file_extension": ".py",
   "mimetype": "text/x-python",
   "name": "python",
   "nbconvert_exporter": "python",
   "pygments_lexer": "ipython3",
   "version": "3.11.13"
  },
  "papermill": {
   "default_parameters": {},
   "duration": 7.456036,
   "end_time": "2025-10-17T03:09:01.390177",
   "environment_variables": {},
   "exception": null,
   "input_path": "__notebook__.ipynb",
   "output_path": "__notebook__.ipynb",
   "parameters": {},
   "start_time": "2025-10-17T03:08:53.934141",
   "version": "2.6.0"
  }
 },
 "nbformat": 4,
 "nbformat_minor": 5
}
